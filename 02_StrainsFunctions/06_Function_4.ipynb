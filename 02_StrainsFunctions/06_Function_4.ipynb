{
 "cells": [
  {
   "cell_type": "code",
   "execution_count": 1,
   "id": "9ba9664e",
   "metadata": {},
   "outputs": [],
   "source": [
    "import numpy as np\n",
    "import sympy as sp\n",
    "\n",
    "def get_strains_from_stresses(stress_tensor,E,G,v):\n",
    "    \"\"\"\n",
    "    compute strain tensor for a given stress tensor by using constitutive relations\n",
    "    Parameters\n",
    "    ----------\n",
    "    -  stress_tensor(np.array) : stress tensor given for the point\n",
    "    -  E(int) : Elasticity modulous of the material\n",
    "    -  G(int) : Shear modulous of the material\n",
    "    -  v(float) : Pisson ratio\n",
    "    \n",
    "    Returns\n",
    "    -------\n",
    "     - strains_tensor(np.array) : strain tensor for the point\n",
    "    \"\"\"\n",
    "    \n",
    "    \n",
    "    Sx  = stress_tensor[0][0]\n",
    "    Txy = stress_tensor[0][1]\n",
    "    Txz = stress_tensor[0][2]\n",
    "    Sy  = stress_tensor[1][1]\n",
    "    Tyz = stress_tensor[1][2]\n",
    "    Sz  = stress_tensor[2][2]\n",
    "\n",
    "    Ex = (1/E) *( Sx - v*(Sy + Sz))\n",
    "    Ey = (1/E) *( Sy - v*(Sx + Sz))\n",
    "    Ez = (1/E) *( Sz - v*(Sx + Sy))\n",
    "    Gxy = Txy/G\n",
    "    Gyz = Tyz/G\n",
    "    Gxz = Txz/G\n",
    "    \n",
    "    \n",
    "    strain_tensor =  np.array([[Ex      , 0.5*Gxy , 0.5*Gxz  ],\n",
    "                               [0.5*Gxy , Ey      , 0.5*Gyz  ],\n",
    "                               [0.5*Gxz , 0.5*Gyz , Ez       ]]) \n",
    "    return(strain_tensor)"
   ]
  },
  {
   "cell_type": "code",
   "execution_count": 3,
   "id": "0e71df1e",
   "metadata": {},
   "outputs": [
    {
     "data": {
      "text/plain": [
       "array([[8.125e-11, -2.500e-12, 3.125e-12],\n",
       "       [-2.500e-12, -4.375e-11, 6.250e-12],\n",
       "       [3.125e-12, 6.250e-12, 5.000e-11]])"
      ]
     },
     "execution_count": 3,
     "metadata": {},
     "output_type": "execute_result"
    }
   ],
   "source": [
    "T_ij = (10**-6)*np.array([[ 20, -4, 5],\n",
    "                          [ -4, 0,  10],\n",
    "                          [5, 10, 15]])\n",
    "np.set_printoptions(suppress=False, precision=3, formatter={'float': '{:0.3e}'.format})\n",
    "get_strains_from_stresses(T_ij,(200*10**3),(800*10**3),0.25)"
   ]
  }
 ],
 "metadata": {
  "kernelspec": {
   "display_name": "Python 3",
   "language": "python",
   "name": "python3"
  },
  "language_info": {
   "codemirror_mode": {
    "name": "ipython",
    "version": 3
   },
   "file_extension": ".py",
   "mimetype": "text/x-python",
   "name": "python",
   "nbconvert_exporter": "python",
   "pygments_lexer": "ipython3",
   "version": "3.12.0"
  }
 },
 "nbformat": 4,
 "nbformat_minor": 5
}
