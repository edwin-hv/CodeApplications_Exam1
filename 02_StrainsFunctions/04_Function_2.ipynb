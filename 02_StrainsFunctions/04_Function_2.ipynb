{
 "cells": [
  {
   "cell_type": "code",
   "execution_count": 6,
   "id": "961d062d",
   "metadata": {},
   "outputs": [],
   "source": [
    "import numpy as np\n",
    "import sympy as sp\n",
    "\n",
    "def get_strain_invariants(strain_tensor):\n",
    "    \"\"\"\n",
    "    compute strain invariants given a strain tensor.\n",
    "\n",
    "    Parameters\n",
    "    ----------\n",
    "    -  strain_tensor(np.array) : array with the strain tensor\n",
    "\n",
    "    Returns\n",
    "    -------\n",
    "     - invariants(list) : with I1, I2, I3 \n",
    "    \"\"\"\n",
    "    Ex  = strain_tensor[0][0]\n",
    "    Gxy = 2 * strain_tensor[0][1]\n",
    "    Gxz = 2 * strain_tensor[0][2]\n",
    "    Ey  = strain_tensor[1][1]\n",
    "    Gyz = 2 * strain_tensor[1][2]\n",
    "    Ez  = strain_tensor[2][2]\n",
    "    \n",
    "    I1 = Ex + Ey + Ez\n",
    "    I2 = Ex*Ey + Ey*Ez  + Ex*Ez  - 0.25*((Gxy**2) + (Gyz**2) + (Gxz**2))\n",
    "    I3 = np.linalg.det(strain_tensor)\n",
    "    print(\"I1:\")\n",
    "    display(I1)\n",
    "    print(\"I2:\")\n",
    "    display(I2)\n",
    "    print(\"I3:\")\n",
    "    display(I3)\n",
    "\n",
    "    invariants = [I1, I2,I3 ]\n",
    "\n",
    "    return invariants\n"
   ]
  },
  {
   "cell_type": "code",
   "execution_count": 7,
   "id": "3cf531df",
   "metadata": {},
   "outputs": [
    {
     "name": "stdout",
     "output_type": "stream",
     "text": [
      "I1:\n"
     ]
    },
    {
     "data": {
      "text/plain": [
       "-0.0003"
      ]
     },
     "metadata": {},
     "output_type": "display_data"
    },
    {
     "name": "stdout",
     "output_type": "stream",
     "text": [
      "I2:\n"
     ]
    },
    {
     "data": {
      "text/plain": [
       "-4.3999999999999997e-07"
      ]
     },
     "metadata": {},
     "output_type": "display_data"
    },
    {
     "name": "stdout",
     "output_type": "stream",
     "text": [
      "I3:\n"
     ]
    },
    {
     "data": {
      "text/plain": [
       "5.799999999999999e-11"
      ]
     },
     "metadata": {},
     "output_type": "display_data"
    },
    {
     "data": {
      "text/plain": [
       "[-0.0003, -4.3999999999999997e-07, 5.799999999999999e-11]"
      ]
     },
     "metadata": {},
     "output_type": "display_data"
    }
   ],
   "source": [
    "\n",
    "E_ij = (10**-6)*np.array([[ 200, 300, 200],\n",
    "                          [ 300, -100,  500],\n",
    "                          [200, 500, -400]]) \n",
    "\n",
    "invariants = get_strain_invariants(E_ij)\n",
    "np.set_printoptions(suppress=False, precision=3, formatter={'float': '{:0.3e}'.format})\n",
    "display(invariants)\n"
   ]
  }
 ],
 "metadata": {
  "kernelspec": {
   "display_name": "Python 3",
   "language": "python",
   "name": "python3"
  },
  "language_info": {
   "codemirror_mode": {
    "name": "ipython",
    "version": 3
   },
   "file_extension": ".py",
   "mimetype": "text/x-python",
   "name": "python",
   "nbconvert_exporter": "python",
   "pygments_lexer": "ipython3",
   "version": "3.12.0"
  }
 },
 "nbformat": 4,
 "nbformat_minor": 5
}
