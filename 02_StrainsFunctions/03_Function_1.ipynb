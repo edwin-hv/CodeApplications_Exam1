{
 "cells": [
  {
   "cell_type": "code",
   "execution_count": 1,
   "id": "e6a22652",
   "metadata": {},
   "outputs": [],
   "source": [
    "import numpy as np\n",
    "import sympy as sp\n",
    "\n",
    "def transform_strain_tensor(strain_tensor, direction_cosines):\n",
    "    \"\"\"\n",
    "    Transform a strain tensor given in certain reference system to other strain tensor, \n",
    "    in other system of reference given for direction cosines.\n",
    "\n",
    "    Parameters\n",
    "    ----------\n",
    "    -  strain_tensor(np.array) : array with the original strain tensor\n",
    "    -  direction_cosines(np.array) : array with the direction cosines which describe de position \n",
    "                                            of the new coordinate system regarding the original cosine system \n",
    "                                            defined as the text book\n",
    "\n",
    "    Returns\n",
    "    -------\n",
    "     - transformed_strain_tensor(np.array) : stress tensor in the new coordinate system\n",
    "    \"\"\"\n",
    "    # Extract rows as vectors\n",
    "    l1_m1_n1 = direction_cosines[0, :].T  # First row\n",
    "    l2_m2_n2 = direction_cosines[1, :].T  # Second row\n",
    "    l3_m3_n3 = direction_cosines[2, :].T  # Third row\n",
    "    \n",
    "    x_prime_plane_strains = direction_cosines @ strain_tensor @  l1_m1_n1 \n",
    "    y_prime_plane_strains = direction_cosines @ strain_tensor @  l2_m2_n2 \n",
    "    z_prime_plane_strains = direction_cosines @ strain_tensor @  l3_m3_n3 \n",
    "    print(\"x'strains are:\")\n",
    "    display( x_prime_plane_strains)\n",
    "    print(\"y'strains are:\")\n",
    "    display( y_prime_plane_strains)\n",
    "    print(\"z'strains are:\")\n",
    "    display( z_prime_plane_strains)\n",
    "    \n",
    "    Ex_prime  = x_prime_plane_strains[0]\n",
    "    O5_Gxy_prime = x_prime_plane_strains[1]\n",
    "    O5_Gxz_prime = x_prime_plane_strains[2]\n",
    "    Ey_prime  = y_prime_plane_strains[1]\n",
    "    O5_Gyz_prime = y_prime_plane_strains[2]\n",
    "    Ez_prime  = z_prime_plane_strains[2]\n",
    "  \n",
    "    \n",
    "\n",
    "    transformed_strain_tensor = np.array([[Ex_prime, O5_Gxy_prime, O5_Gxz_prime],\n",
    "                                           [O5_Gxy_prime, Ey_prime, O5_Gyz_prime],\n",
    "                                           [O5_Gxz_prime, O5_Gyz_prime, Ez_prime]])\n",
    " \n",
    "    return transformed_strain_tensor\n"
   ]
  },
  {
   "cell_type": "code",
   "execution_count": 3,
   "id": "9f082c57",
   "metadata": {},
   "outputs": [
    {
     "name": "stdout",
     "output_type": "stream",
     "text": [
      "x'strains are:\n"
     ]
    },
    {
     "data": {
      "text/plain": [
       "array([0.00038092, 0.        , 0.        ])"
      ]
     },
     "metadata": {},
     "output_type": "display_data"
    },
    {
     "name": "stdout",
     "output_type": "stream",
     "text": [
      "y'strains are:\n"
     ]
    },
    {
     "data": {
      "text/plain": [
       "array([0., 0., 0.])"
      ]
     },
     "metadata": {},
     "output_type": "display_data"
    },
    {
     "name": "stdout",
     "output_type": "stream",
     "text": [
      "z'strains are:\n"
     ]
    },
    {
     "data": {
      "text/plain": [
       "array([0., 0., 0.])"
      ]
     },
     "metadata": {},
     "output_type": "display_data"
    },
    {
     "data": {
      "text/plain": [
       "array([[3.809e-04, 0.000e+00, 0.000e+00],\n",
       "       [0.000e+00, 0.000e+00, 0.000e+00],\n",
       "       [0.000e+00, 0.000e+00, 0.000e+00]])"
      ]
     },
     "metadata": {},
     "output_type": "display_data"
    }
   ],
   "source": [
    "\n",
    "E_ij = (10**-6)*np.array([[ 200, 300, 200],\n",
    "                          [ 300, -100,  500],\n",
    "                          [200, 500, -400]]) \n",
    "\n",
    "\n",
    "l1 = 0.86\n",
    "m1 = 0.5\n",
    "n1 = 0\n",
    "l2 = 0\n",
    "m2 = 0\n",
    "n2 = 0\n",
    "l3 = 0\n",
    "m3 = 0\n",
    "n3 = 0\n",
    "\n",
    "T = np.array([[l1,m1,n1],\n",
    "              [l2,m2,n2],\n",
    "              [l3,m3,n3]])\n",
    "\n",
    "E_ij_prime = transform_strain_tensor(E_ij, T)\n",
    "np.set_printoptions(suppress=False, precision=3, formatter={'float': '{:0.3e}'.format})\n",
    "display(E_ij_prime)"
   ]
  },
  {
   "cell_type": "code",
   "execution_count": null,
   "id": "961d062d",
   "metadata": {},
   "outputs": [],
   "source": []
  }
 ],
 "metadata": {
  "kernelspec": {
   "display_name": "Python 3",
   "language": "python",
   "name": "python3"
  },
  "language_info": {
   "codemirror_mode": {
    "name": "ipython",
    "version": 3
   },
   "file_extension": ".py",
   "mimetype": "text/x-python",
   "name": "python",
   "nbconvert_exporter": "python",
   "pygments_lexer": "ipython3",
   "version": "3.12.0"
  }
 },
 "nbformat": 4,
 "nbformat_minor": 5
}
