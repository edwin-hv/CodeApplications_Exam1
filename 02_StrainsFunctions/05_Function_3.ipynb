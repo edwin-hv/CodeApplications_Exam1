{
 "cells": [
  {
   "cell_type": "code",
   "execution_count": 2,
   "id": "86aed604",
   "metadata": {},
   "outputs": [],
   "source": [
    "import numpy as np\n",
    "import sympy as sp\n",
    "\n",
    "def get_principal_strains(invariants):\n",
    "    \"\"\"\n",
    "    compute principal strains E1,E2,E3 from the invariants belonging to a certain strain state\n",
    "    Parameters\n",
    "    ----------\n",
    "    -  invariants(list) : with I1, I2, I3 ordered \n",
    "\n",
    "    Returns\n",
    "    -------\n",
    "     - principal_strains(list) : with S1, S2, S3 \n",
    "    \"\"\"\n",
    "\n",
    "    I1 = invariants[0]\n",
    "    I2 = invariants[1]\n",
    "    I3 = invariants[2]\n",
    "    print(I1,I2,I3)\n",
    "\n",
    "    # a = 1  # coeficiente de x^3 \n",
    "    # b = -I1  # coeficiente de x^2\n",
    "    # c =  I2  # coeficiente de x\n",
    "    # d = -I3  # término constante\n",
    "\n",
    "    coeficientes = [1, -I1, I2, -I3 ]\n",
    "    pincipal_strains = np.roots(coeficientes)\n",
    "\n",
    "    return  pincipal_strains\n"
   ]
  },
  {
   "cell_type": "code",
   "execution_count": 7,
   "id": "68e78449",
   "metadata": {},
   "outputs": [
    {
     "name": "stdout",
     "output_type": "stream",
     "text": [
      "-0.0003 -4.3999999999999997e-07 5.799999999999999e-11\n"
     ]
    },
    {
     "data": {
      "text/plain": [
       "array([-7.724e-04, 5.980e-04, -1.256e-04])"
      ]
     },
     "execution_count": 7,
     "metadata": {},
     "output_type": "execute_result"
    }
   ],
   "source": [
    "I = [-0.0003, -4.3999999999999997e-07, 5.799999999999999e-11]\n",
    "np.set_printoptions(suppress=False, precision=3, formatter={'float': '{:0.3e}'.format})\n",
    "get_principal_strains(I)"
   ]
  }
 ],
 "metadata": {
  "kernelspec": {
   "display_name": "Python 3",
   "language": "python",
   "name": "python3"
  },
  "language_info": {
   "codemirror_mode": {
    "name": "ipython",
    "version": 3
   },
   "file_extension": ".py",
   "mimetype": "text/x-python",
   "name": "python",
   "nbconvert_exporter": "python",
   "pygments_lexer": "ipython3",
   "version": "3.12.0"
  }
 },
 "nbformat": 4,
 "nbformat_minor": 5
}
