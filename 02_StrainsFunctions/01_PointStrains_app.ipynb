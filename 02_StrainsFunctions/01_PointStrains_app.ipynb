{
 "cells": [
  {
   "cell_type": "code",
   "execution_count": 2,
   "id": "940cfb7e-44e7-4ae4-923f-6e8cd640c1b1",
   "metadata": {},
   "outputs": [
    {
     "data": {
      "text/latex": [
       "$\\displaystyle c \\left(2 x + y^{2}\\right)$"
      ],
      "text/plain": [
       "c*(2*x + y**2)"
      ]
     },
     "metadata": {},
     "output_type": "display_data"
    },
    {
     "data": {
      "text/latex": [
       "$\\displaystyle c \\left(x^{2} - 3 y^{2}\\right)$"
      ],
      "text/plain": [
       "c*(x**2 - 3*y**2)"
      ]
     },
     "metadata": {},
     "output_type": "display_data"
    }
   ],
   "source": [
    "#1 Set displament funtions u, v\n",
    "import sympy as sp\n",
    "x = sp.symbols('x')\n",
    "y = sp.symbols('y')\n",
    "c = sp.symbols('c')\n",
    "u = c * (2*x + y**2)\n",
    "v = c * (x**2 - 3*y**2)\n",
    "display(u)\n",
    "display(v)"
   ]
  },
  {
   "cell_type": "code",
   "execution_count": 3,
   "id": "77d1d590",
   "metadata": {},
   "outputs": [
    {
     "name": "stdout",
     "output_type": "stream",
     "text": [
      "uA, uB, uC, uD are :\n",
      "2.2500e-4\n",
      "6.2500e-4\n",
      "1.0000e-3\n",
      "6.0000e-4\n",
      "vA, vB, vC, vD are :\n",
      "2.5000e-5\n",
      "8.2500e-4\n",
      "-3.0000e-4\n",
      "-1.1000e-3\n"
     ]
    }
   ],
   "source": [
    "# Displament of each point by replacing coordinates x,y of each point in u, v\n",
    "\n",
    "A = [1,0.5]\n",
    "B = [3,0.5]\n",
    "C = [3,2]\n",
    "D = [1,2]\n",
    "\n",
    "uA = u.subs({c:0.0001,x:A[0],y:A[1]})\n",
    "uB = u.subs({c:0.0001,x:B[0],y:B[1]})\n",
    "uC = u.subs({c:0.0001,x:C[0],y:C[1]})\n",
    "uD = u.subs({c:0.0001,x:D[0],y:D[1]})\n",
    "print('uA, uB, uC, uD are :')\n",
    "print(f\"{uA:.4e}\")\n",
    "print(f\"{uB:.4e}\")\n",
    "print(f\"{uC:.4e}\")\n",
    "print(f\"{uD:.4e}\")\n",
    "\n",
    "vA = v.subs({c:0.0001,x:A[0],y:A[1]})\n",
    "vB = v.subs({c:0.0001,x:B[0],y:B[1]})\n",
    "vC = v.subs({c:0.0001,x:C[0],y:C[1]})\n",
    "vD = v.subs({c:0.0001,x:D[0],y:D[1]})\n",
    "print('vA, vB, vC, vD are :')\n",
    "print(f\"{vA:.4e}\")\n",
    "print(f\"{vB:.4e}\")\n",
    "print(f\"{vC:.4e}\")\n",
    "print(f\"{vD:.4e}\")\n"
   ]
  },
  {
   "cell_type": "code",
   "execution_count": 9,
   "id": "b1711437",
   "metadata": {},
   "outputs": [
    {
     "name": "stdout",
     "output_type": "stream",
     "text": [
      "[1.00022500000000, 0.500025000000000]\n",
      "[3.00062500000000, 0.500825000000000]\n",
      "[3.00100000000000, 1.99970000000000]\n",
      "[1.00060000000000, 1.99890000000000]\n"
     ]
    }
   ],
   "source": [
    "#3 new coordinates of each point by adding displaments to original coordinates\n",
    "\n",
    "A_p = [A[0]+ uA,  A[1]+ vA, ]\n",
    "B_p = [B[0]+ uB,  B[1]+ vB, ]\n",
    "C_p = [C[0]+ uC,  C[1]+ vC, ]\n",
    "D_p = [D[0]+ uD,  D[1]+ vD, ]\n",
    "\n",
    "\n",
    "print(A_p)\n",
    "print(B_p)\n",
    "print(C_p)\n",
    "print(D_p)"
   ]
  },
  {
   "cell_type": "code",
   "execution_count": 12,
   "id": "3ae9c948-516c-4a29-b2b7-d5b538f1c240",
   "metadata": {},
   "outputs": [
    {
     "data": {
      "text/latex": [
       "$\\displaystyle 2 c y$"
      ],
      "text/plain": [
       "2*c*y"
      ]
     },
     "metadata": {},
     "output_type": "display_data"
    },
    {
     "data": {
      "text/latex": [
       "$\\displaystyle 2 c x$"
      ],
      "text/plain": [
       "2*c*x"
      ]
     },
     "metadata": {},
     "output_type": "display_data"
    },
    {
     "name": "stdout",
     "output_type": "stream",
     "text": [
      "3.0000e-4\n"
     ]
    }
   ],
   "source": [
    "# 4 Compure Gamm xy using the definitation \n",
    "du_dy  = sp.diff(u,y)\n",
    "dv_dx = sp.diff(v ,x)\n",
    "display(du_dy)\n",
    "display(dv_dx)\n",
    "Gxy_diff =  (du_dy + dv_dx).subs({c:10**-4,x:1, y:0.5})\n",
    "print(f\"{Gxy_diff:.4e}\")"
   ]
  }
 ],
 "metadata": {
  "kernelspec": {
   "display_name": "Python 3",
   "language": "python",
   "name": "python3"
  },
  "language_info": {
   "codemirror_mode": {
    "name": "ipython",
    "version": 3
   },
   "file_extension": ".py",
   "mimetype": "text/x-python",
   "name": "python",
   "nbconvert_exporter": "python",
   "pygments_lexer": "ipython3",
   "version": "3.12.0"
  }
 },
 "nbformat": 4,
 "nbformat_minor": 5
}
