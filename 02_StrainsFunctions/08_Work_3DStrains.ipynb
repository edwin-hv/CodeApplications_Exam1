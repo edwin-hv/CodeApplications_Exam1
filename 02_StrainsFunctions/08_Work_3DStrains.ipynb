{
 "cells": [
  {
   "cell_type": "code",
   "execution_count": 2,
   "id": "49d64281",
   "metadata": {},
   "outputs": [],
   "source": [
    "import Strains3D_functions as E3DF\n",
    "import sympy as sp\n",
    "import numpy as np"
   ]
  },
  {
   "cell_type": "code",
   "execution_count": 3,
   "id": "8126aefe",
   "metadata": {},
   "outputs": [
    {
     "name": "stdout",
     "output_type": "stream",
     "text": [
      "x'strains are:\n"
     ]
    },
    {
     "data": {
      "text/plain": [
       "array([0.00038092, 0.        , 0.        ])"
      ]
     },
     "metadata": {},
     "output_type": "display_data"
    },
    {
     "name": "stdout",
     "output_type": "stream",
     "text": [
      "y'strains are:\n"
     ]
    },
    {
     "data": {
      "text/plain": [
       "array([0., 0., 0.])"
      ]
     },
     "metadata": {},
     "output_type": "display_data"
    },
    {
     "name": "stdout",
     "output_type": "stream",
     "text": [
      "z'strains are:\n"
     ]
    },
    {
     "data": {
      "text/plain": [
       "array([0., 0., 0.])"
      ]
     },
     "metadata": {},
     "output_type": "display_data"
    },
    {
     "data": {
      "text/plain": [
       "array([[3.809e-04, 0.000e+00, 0.000e+00],\n",
       "       [0.000e+00, 0.000e+00, 0.000e+00],\n",
       "       [0.000e+00, 0.000e+00, 0.000e+00]])"
      ]
     },
     "metadata": {},
     "output_type": "display_data"
    }
   ],
   "source": [
    "# 1 EXAMPLE:  STRAINS TRANSFORMATION \n",
    "\n",
    "E_ij = (10**-6)*np.array([[ 200, 300, 200],\n",
    "                          [ 300, -100,  500],\n",
    "                          [200, 500, -400]]) \n",
    "\n",
    "l1 = 0.86\n",
    "m1 = 0.5\n",
    "n1 = 0\n",
    "l2 = 0\n",
    "m2 = 0\n",
    "n2 = 0\n",
    "l3 = 0\n",
    "m3 = 0\n",
    "n3 = 0\n",
    "\n",
    "T = np.array([[l1,m1,n1],\n",
    "              [l2,m2,n2],\n",
    "              [l3,m3,n3]])\n",
    "\n",
    "E_ij_prime = E3DF.transform_strain_tensor(E_ij, T)\n",
    "np.set_printoptions(suppress=False, precision=3, formatter={'float': '{:0.3e}'.format})\n",
    "display(E_ij_prime)"
   ]
  },
  {
   "cell_type": "code",
   "execution_count": 4,
   "id": "2085ef80",
   "metadata": {},
   "outputs": [
    {
     "name": "stdout",
     "output_type": "stream",
     "text": [
      "I1:\n"
     ]
    },
    {
     "data": {
      "text/plain": [
       "-0.0003"
      ]
     },
     "metadata": {},
     "output_type": "display_data"
    },
    {
     "name": "stdout",
     "output_type": "stream",
     "text": [
      "I2:\n"
     ]
    },
    {
     "data": {
      "text/plain": [
       "-4.3999999999999997e-07"
      ]
     },
     "metadata": {},
     "output_type": "display_data"
    },
    {
     "name": "stdout",
     "output_type": "stream",
     "text": [
      "I3:\n"
     ]
    },
    {
     "data": {
      "text/plain": [
       "5.799999999999999e-11"
      ]
     },
     "metadata": {},
     "output_type": "display_data"
    },
    {
     "data": {
      "text/plain": [
       "[-0.0003, -4.3999999999999997e-07, 5.799999999999999e-11]"
      ]
     },
     "metadata": {},
     "output_type": "display_data"
    }
   ],
   "source": [
    "#3 EXAMPLE : STRAIN INVARIANTS\n",
    "E_ij = (10**-6)*np.array([[ 200, 300, 200],\n",
    "                          [ 300, -100,  500],\n",
    "                          [200, 500, -400]]) \n",
    "\n",
    "invariants = E3DF.get_strain_invariants(E_ij)\n",
    "np.set_printoptions(suppress=False, precision=3, formatter={'float': '{:0.3e}'.format})\n",
    "display(invariants)"
   ]
  },
  {
   "cell_type": "code",
   "execution_count": 5,
   "id": "c3eac16a",
   "metadata": {},
   "outputs": [
    {
     "name": "stdout",
     "output_type": "stream",
     "text": [
      "-0.0003 -4.3999999999999997e-07 5.799999999999999e-11\n"
     ]
    },
    {
     "data": {
      "text/plain": [
       "array([-7.724e-04, 5.980e-04, -1.256e-04])"
      ]
     },
     "execution_count": 5,
     "metadata": {},
     "output_type": "execute_result"
    }
   ],
   "source": [
    "#3 EXAMPLE: PRINCIPAL STRAINS\n",
    "I = [-0.0003, -4.3999999999999997e-07, 5.799999999999999e-11]\n",
    "np.set_printoptions(suppress=False, precision=3, formatter={'float': '{:0.3e}'.format})\n",
    "E3DF.get_principal_strains(I)"
   ]
  },
  {
   "cell_type": "code",
   "execution_count": 6,
   "id": "460246a8",
   "metadata": {},
   "outputs": [
    {
     "data": {
      "text/plain": [
       "array([[8.125e-11, -2.500e-12, 3.125e-12],\n",
       "       [-2.500e-12, -4.375e-11, 6.250e-12],\n",
       "       [3.125e-12, 6.250e-12, 5.000e-11]])"
      ]
     },
     "execution_count": 6,
     "metadata": {},
     "output_type": "execute_result"
    }
   ],
   "source": [
    "#4 EXAMPLE: GETTING STRAIN FROM STRES TENSOR\n",
    "\n",
    "T_ij = (10**-6)*np.array([[ 20, -4, 5],\n",
    "                          [ -4, 0,  10],\n",
    "                          [5, 10, 15]])\n",
    "np.set_printoptions(suppress=False, precision=3, formatter={'float': '{:0.3e}'.format})\n",
    "E3DF.get_strains_from_stresses(T_ij,(200*10**3),(800*10**3),0.25)"
   ]
  }
 ],
 "metadata": {
  "kernelspec": {
   "display_name": "Python 3",
   "language": "python",
   "name": "python3"
  },
  "language_info": {
   "codemirror_mode": {
    "name": "ipython",
    "version": 3
   },
   "file_extension": ".py",
   "mimetype": "text/x-python",
   "name": "python",
   "nbconvert_exporter": "python",
   "pygments_lexer": "ipython3",
   "version": "3.12.0"
  }
 },
 "nbformat": 4,
 "nbformat_minor": 5
}
