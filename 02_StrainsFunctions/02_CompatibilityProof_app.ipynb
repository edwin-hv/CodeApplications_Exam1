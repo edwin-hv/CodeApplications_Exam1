{
 "cells": [
  {
   "cell_type": "code",
   "execution_count": 10,
   "id": "23ca040c",
   "metadata": {},
   "outputs": [
    {
     "data": {
      "text/latex": [
       "$\\displaystyle a_{0} x^{2} y^{2} + a_{1} x y^{2} + a_{2} x^{2} y$"
      ],
      "text/plain": [
       "a_0*x**2*y**2 + a_1*x*y**2 + a_2*x**2*y"
      ]
     },
     "metadata": {},
     "output_type": "display_data"
    },
    {
     "data": {
      "text/latex": [
       "$\\displaystyle b_{0} x^{2} y + b_{1} x y$"
      ],
      "text/plain": [
       "b_0*x**2*y + b_1*x*y"
      ]
     },
     "metadata": {},
     "output_type": "display_data"
    },
    {
     "data": {
      "text/latex": [
       "$\\displaystyle c_{0} x^{2} y + c_{1} x y + c_{2} x^{2} + c_{3} y^{2}$"
      ],
      "text/plain": [
       "c_0*x**2*y + c_1*x*y + c_2*x**2 + c_3*y**2"
      ]
     },
     "metadata": {},
     "output_type": "display_data"
    }
   ],
   "source": [
    "#1 Set displament funtions u, v\n",
    "import sympy as sp\n",
    "x = sp.symbols('x')\n",
    "y = sp.symbols('y')\n",
    "a0 = sp.symbols('a_0')\n",
    "a1 = sp.symbols('a_1')\n",
    "a2 = sp.symbols('a_2')\n",
    "b0 = sp.symbols('b_0')\n",
    "b1 = sp.symbols('b_1')\n",
    "\n",
    "c0 = sp.symbols('c_0')\n",
    "c1 = sp.symbols('c_1')\n",
    "c2 = sp.symbols('c_2')\n",
    "c3 = sp.symbols('c_3')\n",
    "\n",
    "\n",
    "u = a0*(x**2)*(y**2) + a1*x*(y**2) + a2*(x**2)*y\n",
    "v =  b0*(x**2)*y + b1*x*y\n",
    "gamma = c0*(x**2)*y + c1*(x*y) + c2*(x**2) + c3*(y**2)\n",
    "display(u)\n",
    "display(v)\n",
    "display(gamma)"
   ]
  },
  {
   "cell_type": "code",
   "execution_count": 11,
   "id": "8e6511c5",
   "metadata": {},
   "outputs": [
    {
     "data": {
      "text/latex": [
       "$\\displaystyle 2 a_{0} x y^{2} + a_{1} y^{2} + 2 a_{2} x y$"
      ],
      "text/plain": [
       "2*a_0*x*y**2 + a_1*y**2 + 2*a_2*x*y"
      ]
     },
     "metadata": {},
     "output_type": "display_data"
    },
    {
     "data": {
      "text/latex": [
       "$\\displaystyle b_{0} x^{2} + b_{1} x$"
      ],
      "text/plain": [
       "b_0*x**2 + b_1*x"
      ]
     },
     "metadata": {},
     "output_type": "display_data"
    }
   ],
   "source": [
    "#2 compute Strain expresiones by derivating u,v\n",
    "\n",
    "Ex  = sp.diff(u,x)\n",
    "Ey = sp.diff(v ,y)\n",
    "display(Ex)\n",
    "display(Ey)"
   ]
  },
  {
   "cell_type": "code",
   "execution_count": 12,
   "id": "5f7bf5dc",
   "metadata": {},
   "outputs": [
    {
     "data": {
      "text/latex": [
       "$\\displaystyle 4 a_{0} x + 2 a_{1}$"
      ],
      "text/plain": [
       "4*a_0*x + 2*a_1"
      ]
     },
     "metadata": {},
     "output_type": "display_data"
    },
    {
     "data": {
      "text/latex": [
       "$\\displaystyle 2 b_{0}$"
      ],
      "text/plain": [
       "2*b_0"
      ]
     },
     "metadata": {},
     "output_type": "display_data"
    },
    {
     "data": {
      "text/latex": [
       "$\\displaystyle 2 c_{0} x + c_{1}$"
      ],
      "text/plain": [
       "2*c_0*x + c_1"
      ]
     },
     "metadata": {},
     "output_type": "display_data"
    }
   ],
   "source": [
    "#3 Compatibility equation expresions\n",
    "dEx_dy = sp.diff(Ex,y)\n",
    "dEx2_dy2 = sp.diff(dEx_dy,y)\n",
    "display(dEx2_dy2)\n",
    "\n",
    "dEy_dx = sp.diff(Ey,x)\n",
    "dEy2_dx2 = sp.diff(dEy_dx,x)\n",
    "display(dEy2_dx2)\n",
    "\n",
    "dg_dx = sp.diff(gamma,x)\n",
    "d2g_dx_dy = sp.diff(dg_dx,y)\n",
    "display(d2g_dx_dy )"
   ]
  },
  {
   "cell_type": "code",
   "execution_count": 19,
   "id": "6cb04d0c",
   "metadata": {},
   "outputs": [
    {
     "data": {
      "text/latex": [
       "$\\displaystyle 4 a_{0} x + 2 a_{1} + 2 b_{0} = 2 c_{0} x + c_{1}$"
      ],
      "text/plain": [
       "Eq(4*a_0*x + 2*a_1 + 2*b_0, 2*c_0*x + c_1)"
      ]
     },
     "metadata": {},
     "output_type": "display_data"
    },
    {
     "data": {
      "text/plain": [
       "{c_0: 2*a_0, c_1: 2*a_1 + 2*b_0}"
      ]
     },
     "metadata": {},
     "output_type": "display_data"
    }
   ],
   "source": [
    "#4 Set and solve equation\n",
    "\n",
    "eq_1 = sp.Eq(dEx2_dy2 + dEy2_dx2, d2g_dx_dy)\n",
    "display(eq_1)\n",
    "eq_1_solution = sp.solve(eq_1, [c0, c1])\n",
    "display(eq_1_solution)"
   ]
  }
 ],
 "metadata": {
  "kernelspec": {
   "display_name": "Python 3",
   "language": "python",
   "name": "python3"
  },
  "language_info": {
   "codemirror_mode": {
    "name": "ipython",
    "version": 3
   },
   "file_extension": ".py",
   "mimetype": "text/x-python",
   "name": "python",
   "nbconvert_exporter": "python",
   "pygments_lexer": "ipython3",
   "version": "3.12.0"
  }
 },
 "nbformat": 4,
 "nbformat_minor": 5
}
