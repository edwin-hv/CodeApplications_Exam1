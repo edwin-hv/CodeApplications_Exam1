{
 "cells": [
  {
   "cell_type": "code",
   "execution_count": 2,
   "id": "5415a26b",
   "metadata": {},
   "outputs": [],
   "source": [
    "import numpy as np\n",
    "import sympy as sp\n",
    "\n",
    "def get_principal_directions(stress_tensor,principal_stress):\n",
    "    \"\"\"\n",
    "    compute principal direction for a princiapl stress of a certain stresses state.\n",
    "\n",
    "    Parameters\n",
    "    ----------\n",
    "    -  invariants(list) : with I1, I2, I3 ordered \n",
    "\n",
    "    Returns\n",
    "    -------\n",
    "     - principal_stresses(list) : with S1, S2, S3 ordered from biggest to smallest\n",
    "    \"\"\"\n",
    "\n",
    "    Sx = stress_tensor[0][0]\n",
    "    Sy = stress_tensor[1][1]\n",
    "    Sz = stress_tensor[2][2]\n",
    "    \n",
    "    Sx_modified = Sx - principal_stress\n",
    "    Sy_modified = Sy - principal_stress\n",
    "    Sz_modified = Sz - principal_stress\n",
    "    \n",
    "    stress_tensor_modified = np.copy(stress_tensor)\n",
    "    np.fill_diagonal( stress_tensor_modified , [ Sx_modified , Sy_modified,   Sz_modified ])\n",
    "\n",
    "    \n",
    "    # Calcular la descomposición en valores singulares (SVD)\n",
    "    U, S, Vt = np.linalg.svd( stress_tensor_modified)\n",
    " \n",
    "    # El rango de A es el número de valores singulares no nulos\n",
    "    rank = np.sum(S > 1e-10)  # Ajusta el umbral según sea necesario\n",
    "    \n",
    "    # El número de soluciones libres es 3 - rango\n",
    "    n = stress_tensor_modified.shape[1] - rank\n",
    "    \n",
    "    if n > 0:\n",
    "        # Para obtener la solución general del sistema homogéneo\n",
    "        # Las columnas de Vt correspondientes a los valores singulares cero son las soluciones\n",
    "        null_space = Vt[rank:].T  # Espacio nulo\n",
    "        print(\"El espacio nulo (soluciones) es:\")\n",
    "        print(null_space)\n",
    "    else:\n",
    "        print(\"El sistema no tiene soluciones no triviales.\")\n",
    "\n",
    "    return  \n"
   ]
  },
  {
   "cell_type": "code",
   "execution_count": 6,
   "id": "ba2cf80f",
   "metadata": {},
   "outputs": [
    {
     "name": "stdout",
     "output_type": "stream",
     "text": [
      "El espacio nulo (soluciones) es:\n",
      "[[ 0.4472136 ]\n",
      " [ 0.        ]\n",
      " [-0.89442719]]\n"
     ]
    }
   ],
   "source": [
    "T_ij = np.array([[30, 0, 20],\n",
    "                 [0, 0, 0],\n",
    "                 [20, 0, 0]])\n",
    "S1 = -10\n",
    "\n",
    "get_principal_directions(T_ij,S1)"
   ]
  },
  {
   "cell_type": "code",
   "execution_count": null,
   "id": "a763493c",
   "metadata": {},
   "outputs": [],
   "source": []
  }
 ],
 "metadata": {
  "kernelspec": {
   "display_name": "Python 3",
   "language": "python",
   "name": "python3"
  },
  "language_info": {
   "codemirror_mode": {
    "name": "ipython",
    "version": 3
   },
   "file_extension": ".py",
   "mimetype": "text/x-python",
   "name": "python",
   "nbconvert_exporter": "python",
   "pygments_lexer": "ipython3",
   "version": "3.12.0"
  }
 },
 "nbformat": 4,
 "nbformat_minor": 5
}
