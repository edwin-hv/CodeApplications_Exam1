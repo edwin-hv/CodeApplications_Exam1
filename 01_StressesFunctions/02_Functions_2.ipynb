{
 "cells": [
  {
   "cell_type": "code",
   "execution_count": 1,
   "id": "5415a26b",
   "metadata": {},
   "outputs": [],
   "source": [
    "import numpy as np\n",
    "import sympy as sp\n",
    "\n",
    "def get_stress_invariant(stress_tensor):\n",
    "    \"\"\"\n",
    "    compute stress invariant given a stress tensor.\n",
    "\n",
    "    Parameters\n",
    "    ----------\n",
    "    -  stress_tensor(np.array) : array with the original stress tensor\n",
    "\n",
    "    Returns\n",
    "    -------\n",
    "     - invariants(list) : with I1, I2, I3 ordered from biggest to smallest\n",
    "    \"\"\"\n",
    "    Sx  = stress_tensor[0][0]\n",
    "    Txy = stress_tensor[0][1]\n",
    "    Txz = stress_tensor[0][2]\n",
    "    Sy  = stress_tensor[1][1]\n",
    "    Tyz = stress_tensor[1][2]\n",
    "    Sz  = stress_tensor[2][2]\n",
    "    \n",
    "    I1 = Sx + Sy + Sz\n",
    "    I2 = Sx*Sy + Sy*Sz  + Sx*Sz - (Txy**2) - (Tyz**2) - (Txz**2)\n",
    "    I3 = np.linalg.det(stress_tensor)\n",
    "    print(\"I1:\")\n",
    "    display(I1)\n",
    "    print(\"I2:\")\n",
    "    display(I2)\n",
    "    print(\"I3:\")\n",
    "    display(I3)\n",
    "\n",
    "    invariants = [I1, I2,I3 ]\n",
    "\n",
    " \n",
    "    return invariants\n"
   ]
  },
  {
   "cell_type": "code",
   "execution_count": 3,
   "id": "79957143",
   "metadata": {},
   "outputs": [
    {
     "name": "stdout",
     "output_type": "stream",
     "text": [
      "I1:\n"
     ]
    },
    {
     "data": {
      "text/plain": [
       "80"
      ]
     },
     "metadata": {},
     "output_type": "display_data"
    },
    {
     "name": "stdout",
     "output_type": "stream",
     "text": [
      "I2:\n"
     ]
    },
    {
     "data": {
      "text/plain": [
       "-2400"
      ]
     },
     "metadata": {},
     "output_type": "display_data"
    },
    {
     "name": "stdout",
     "output_type": "stream",
     "text": [
      "I3:\n"
     ]
    },
    {
     "data": {
      "text/plain": [
       "7999.999999999986"
      ]
     },
     "metadata": {},
     "output_type": "display_data"
    }
   ],
   "source": [
    "T_ij_1 = np.array([[ 60, 40, -40],\n",
    "                 [ 40, 0,  -20],\n",
    "                 [-40, -20, 20]])\n",
    "invariants_1 = get_stress_invariant(T_ij_1)\n"
   ]
  },
  {
   "cell_type": "code",
   "execution_count": 4,
   "id": "c1db3afb",
   "metadata": {},
   "outputs": [
    {
     "name": "stdout",
     "output_type": "stream",
     "text": [
      "I1:\n"
     ]
    },
    {
     "data": {
      "text/plain": [
       "80.0"
      ]
     },
     "metadata": {},
     "output_type": "display_data"
    },
    {
     "name": "stdout",
     "output_type": "stream",
     "text": [
      "I2:\n"
     ]
    },
    {
     "data": {
      "text/plain": [
       "-2399.9999999999914"
      ]
     },
     "metadata": {},
     "output_type": "display_data"
    },
    {
     "name": "stdout",
     "output_type": "stream",
     "text": [
      "I3:\n"
     ]
    },
    {
     "data": {
      "text/plain": [
       "7999.9999999999145"
      ]
     },
     "metadata": {},
     "output_type": "display_data"
    }
   ],
   "source": [
    "T_ij_2 = np.array([[79.6410161513775, -5.98076211353316, -44.6410161513775],\n",
    "       [-5.98076211353316, -19.6410161513775, 2.67949192431123],\n",
    "       [-44.6410161513775, 2.67949192431123, 20.0000000000000]])\n",
    "\n",
    "invariants_2 = get_stress_invariant(T_ij_2)"
   ]
  }
 ],
 "metadata": {
  "kernelspec": {
   "display_name": "Python 3 (ipykernel)",
   "language": "python",
   "name": "python3"
  },
  "language_info": {
   "codemirror_mode": {
    "name": "ipython",
    "version": 3
   },
   "file_extension": ".py",
   "mimetype": "text/x-python",
   "name": "python",
   "nbconvert_exporter": "python",
   "pygments_lexer": "ipython3",
   "version": "3.12.0"
  }
 },
 "nbformat": 4,
 "nbformat_minor": 5
}
