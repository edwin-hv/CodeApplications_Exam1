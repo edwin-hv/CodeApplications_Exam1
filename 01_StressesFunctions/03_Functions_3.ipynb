{
 "cells": [
  {
   "cell_type": "code",
   "execution_count": 20,
   "id": "5415a26b",
   "metadata": {},
   "outputs": [],
   "source": [
    "import numpy as np\n",
    "import sympy as sp\n",
    "\n",
    "def get_principal_stresses(invariants):\n",
    "    \"\"\"\n",
    "    compute principal stresses S1,S2,S3 from the invariants belonging to a certain stress state\n",
    "    Parameters\n",
    "    ----------\n",
    "    -  invariants(list) : with I1, I2, I3 ordered \n",
    "\n",
    "    Returns\n",
    "    -------\n",
    "     - principal_stresses(list) : with S1, S2, S3 ordered from biggest to smallest\n",
    "    \"\"\"\n",
    "\n",
    "    I1 = invariants[0]\n",
    "    I2 = invariants[1]\n",
    "    I3 = invariants[2]\n",
    "    print(I1,I2,I3)\n",
    "\n",
    "    # a = 1  # coeficiente de x^3 \n",
    "    # b = -I1  # coeficiente de x^2\n",
    "    # c =  I2  # coeficiente de x\n",
    "    # d = -I3  # término constante\n",
    "\n",
    "    coeficientes = [1, -I1, I2, -I3 ]\n",
    "    pincipal_stresses = np.roots(coeficientes)\n",
    "\n",
    "    return  pincipal_stresses\n"
   ]
  },
  {
   "cell_type": "code",
   "execution_count": 21,
   "id": "79957143",
   "metadata": {},
   "outputs": [
    {
     "name": "stdout",
     "output_type": "stream",
     "text": [
      "26 -349 -6464\n"
     ]
    },
    {
     "data": {
      "text/plain": [
       "array([-16.9785768 ,  30.49342351,  12.48515329])"
      ]
     },
     "execution_count": 21,
     "metadata": {},
     "output_type": "execute_result"
    }
   ],
   "source": [
    "\n",
    "I = [26,-349,-6464]\n",
    "\n",
    "get_principal_stresses(I)"
   ]
  },
  {
   "cell_type": "code",
   "execution_count": null,
   "id": "49d64281",
   "metadata": {},
   "outputs": [],
   "source": []
  }
 ],
 "metadata": {
  "kernelspec": {
   "display_name": "Python 3",
   "language": "python",
   "name": "python3"
  },
  "language_info": {
   "codemirror_mode": {
    "name": "ipython",
    "version": 3
   },
   "file_extension": ".py",
   "mimetype": "text/x-python",
   "name": "python",
   "nbconvert_exporter": "python",
   "pygments_lexer": "ipython3",
   "version": "3.12.0"
  }
 },
 "nbformat": 4,
 "nbformat_minor": 5
}
