{
 "cells": [
  {
   "cell_type": "code",
   "execution_count": 3,
   "id": "5415a26b",
   "metadata": {},
   "outputs": [],
   "source": [
    "import numpy as np\n",
    "import sympy as sp\n",
    "\n",
    "def transform_stress_tensor(stress_tensor, direction_cosines):\n",
    "    \"\"\"\n",
    "    Transform a stress tensor given in certain reference system to other stress tensor, \n",
    "    in other system of reference given for direction cosines.\n",
    "\n",
    "    Parameters\n",
    "    ----------\n",
    "    -  stress_tensor(np.array) : array with the original stress tensor\n",
    "    -  direction_cosines(np.array) : array with the direction cosines which describe de position \n",
    "                                            of the new coordinate system regarding the original cosine system \n",
    "                                            defined as the text book\n",
    "\n",
    "    Returns\n",
    "    -------\n",
    "     - transformed_stress_tensor(np.array) : stress tensor in the new coordinate system\n",
    "    \"\"\"\n",
    "    # Extract rows as vectors\n",
    "    l1_m1_n1 = direction_cosines[0, :].T  # First row\n",
    "    l2_m2_n2 = direction_cosines[1, :].T  # Second row\n",
    "    l3_m3_n3 = direction_cosines[2, :].T  # Third row\n",
    "    \n",
    "    x_prime_plane_streses = direction_cosines @ stress_tensor @  l1_m1_n1 \n",
    "    y_prime_plane_streses = direction_cosines @ stress_tensor @  l2_m2_n2 \n",
    "    z_prime_plane_streses = direction_cosines @ stress_tensor @  l3_m3_n3 \n",
    "    print(\"x'stresses are:\")\n",
    "    display( x_prime_plane_streses)\n",
    "    print(\"y'stresses are:\")\n",
    "    display( y_prime_plane_streses)\n",
    "    print(\"z'stresses are:\")\n",
    "    display( z_prime_plane_streses)\n",
    "    \n",
    "    Sx_prime  = x_prime_plane_streses[0]\n",
    "    Txy_prime = x_prime_plane_streses[1]\n",
    "    Txz_prime = x_prime_plane_streses[2]\n",
    "    Sy_prime  = y_prime_plane_streses[1]\n",
    "    Tyz_prime = y_prime_plane_streses[2]\n",
    "    Sz_prime  = z_prime_plane_streses[2]\n",
    "  \n",
    "    \n",
    "\n",
    "    transformed_stress_tensor = np.array([[Sx_prime, Txy_prime, Txz_prime],\n",
    "                                           [Txy_prime, Sy_prime, Tyz_prime],\n",
    "                                           [Txz_prime, Tyz_prime, Sz_prime]])\n",
    " \n",
    "    return transformed_stress_tensor\n"
   ]
  },
  {
   "cell_type": "code",
   "execution_count": 4,
   "id": "7d4ac0d6",
   "metadata": {},
   "outputs": [
    {
     "name": "stdout",
     "output_type": "stream",
     "text": [
      "x'stresses are:\n"
     ]
    },
    {
     "data": {
      "text/plain": [
       "array([79.6410161513775, -5.98076211353316, -44.6410161513775],\n",
       "      dtype=object)"
      ]
     },
     "metadata": {},
     "output_type": "display_data"
    },
    {
     "name": "stdout",
     "output_type": "stream",
     "text": [
      "y'stresses are:\n"
     ]
    },
    {
     "data": {
      "text/plain": [
       "array([-5.98076211353316, -19.6410161513775, 2.67949192431123],\n",
       "      dtype=object)"
      ]
     },
     "metadata": {},
     "output_type": "display_data"
    },
    {
     "name": "stdout",
     "output_type": "stream",
     "text": [
      "z'stresses are:\n"
     ]
    },
    {
     "data": {
      "text/plain": [
       "array([-44.6410161513775, 2.67949192431123, 20.0000000000000],\n",
       "      dtype=object)"
      ]
     },
     "metadata": {},
     "output_type": "display_data"
    },
    {
     "data": {
      "text/plain": [
       "array([[79.6410161513775, -5.98076211353316, -44.6410161513775],\n",
       "       [-5.98076211353316, -19.6410161513775, 2.67949192431123],\n",
       "       [-44.6410161513775, 2.67949192431123, 20.0000000000000]],\n",
       "      dtype=object)"
      ]
     },
     "metadata": {},
     "output_type": "display_data"
    }
   ],
   "source": [
    "\n",
    "T_ij = np.array([[ 60, 40, -40],\n",
    "                 [ 40, 0,  -20],\n",
    "                 [-40, -20, 20]])\n",
    "\n",
    "\n",
    "l1 = sp.cos(sp.rad(30)).evalf()\n",
    "m1 = sp.cos(sp.rad(60)).evalf()\n",
    "n1 = sp.cos(sp.rad(90)).evalf()\n",
    "l2 = sp.cos(sp.rad(120)).evalf()\n",
    "m2 = sp.cos(sp.rad(30)).evalf()\n",
    "n2 = sp.cos(sp.rad(90)).evalf()\n",
    "l3 = sp.cos(sp.rad(90)).evalf()\n",
    "m3 = sp.cos(sp.rad(90)).evalf()\n",
    "n3 = sp.cos(sp.rad(0)).evalf()\n",
    "\n",
    "T = np.array([[l1,m1,n1],\n",
    "              [l2,m2,n2],\n",
    "              [l3,m3,n3]])\n",
    "\n",
    "T_ij_prime = transform_stress_tensor(T_ij, T)\n",
    "display(T_ij_prime)"
   ]
  },
  {
   "cell_type": "code",
   "execution_count": 8,
   "id": "b2c798b4",
   "metadata": {},
   "outputs": [
    {
     "name": "stdout",
     "output_type": "stream",
     "text": [
      "x'stresses are:\n"
     ]
    },
    {
     "data": {
      "text/plain": [
       "array([10, 0, 0], dtype=object)"
      ]
     },
     "metadata": {},
     "output_type": "display_data"
    },
    {
     "name": "stdout",
     "output_type": "stream",
     "text": [
      "y'stresses are:\n"
     ]
    },
    {
     "data": {
      "text/plain": [
       "array([0, 5.00000000000000, 5.19615242270663], dtype=object)"
      ]
     },
     "metadata": {},
     "output_type": "display_data"
    },
    {
     "name": "stdout",
     "output_type": "stream",
     "text": [
      "z'stresses are:\n"
     ]
    },
    {
     "data": {
      "text/plain": [
       "array([0, 5.19615242270663, -1.00000000000000], dtype=object)"
      ]
     },
     "metadata": {},
     "output_type": "display_data"
    },
    {
     "data": {
      "text/plain": [
       "array([[10, 0, 0],\n",
       "       [0, 5.00000000000000, 5.19615242270663],\n",
       "       [0, 5.19615242270663, -1.00000000000000]], dtype=object)"
      ]
     },
     "metadata": {},
     "output_type": "display_data"
    }
   ],
   "source": [
    "\n",
    "T_ij = np.array([[ 10, 0, 0],\n",
    "                 [ 0, -4,  0],\n",
    "                 [0, 0, 8]])\n",
    "\n",
    "\n",
    "l1 = 1\n",
    "m1 = 0 \n",
    "n1 = 0 \n",
    "l2 = 0\n",
    "m2 = 1/2\n",
    "n2 = (sp.sqrt(3)/2).evalf()\n",
    "l3 = 0\n",
    "m3 = (-sp.sqrt(3)/2).evalf()\n",
    "n3 = (1/2 )\n",
    "\n",
    "T = np.array([[l1,m1,n1],\n",
    "              [l2,m2,n2],\n",
    "              [l3,m3,n3]])\n",
    "\n",
    "T_ij_prime = transform_stress_tensor(T_ij, T)\n",
    "display(T_ij_prime)"
   ]
  },
  {
   "cell_type": "code",
   "execution_count": null,
   "id": "d17e1301",
   "metadata": {},
   "outputs": [],
   "source": []
  }
 ],
 "metadata": {
  "kernelspec": {
   "display_name": "Python 3",
   "language": "python",
   "name": "python3"
  },
  "language_info": {
   "codemirror_mode": {
    "name": "ipython",
    "version": 3
   },
   "file_extension": ".py",
   "mimetype": "text/x-python",
   "name": "python",
   "nbconvert_exporter": "python",
   "pygments_lexer": "ipython3",
   "version": "3.12.0"
  }
 },
 "nbformat": 4,
 "nbformat_minor": 5
}
