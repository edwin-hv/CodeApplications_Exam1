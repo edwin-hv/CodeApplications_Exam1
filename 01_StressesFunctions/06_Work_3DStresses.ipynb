{
 "cells": [
  {
   "cell_type": "code",
   "execution_count": 3,
   "id": "49d64281",
   "metadata": {},
   "outputs": [],
   "source": [
    "import Stresess3D_functions as S3DF\n",
    "import sympy as sp\n",
    "import numpy as np\n"
   ]
  },
  {
   "cell_type": "code",
   "execution_count": 4,
   "id": "8e2a4158",
   "metadata": {},
   "outputs": [
    {
     "name": "stdout",
     "output_type": "stream",
     "text": [
      "x'stresses are:\n"
     ]
    },
    {
     "data": {
      "text/plain": [
       "array([79.6410161513775, -5.98076211353316, -44.6410161513775],\n",
       "      dtype=object)"
      ]
     },
     "metadata": {},
     "output_type": "display_data"
    },
    {
     "name": "stdout",
     "output_type": "stream",
     "text": [
      "y'stresses are:\n"
     ]
    },
    {
     "data": {
      "text/plain": [
       "array([-5.98076211353316, -19.6410161513775, 2.67949192431123],\n",
       "      dtype=object)"
      ]
     },
     "metadata": {},
     "output_type": "display_data"
    },
    {
     "name": "stdout",
     "output_type": "stream",
     "text": [
      "z'stresses are:\n"
     ]
    },
    {
     "data": {
      "text/plain": [
       "array([-44.6410161513775, 2.67949192431123, 20.0000000000000],\n",
       "      dtype=object)"
      ]
     },
     "metadata": {},
     "output_type": "display_data"
    },
    {
     "data": {
      "text/plain": [
       "array([[79.6410161513775, -5.98076211353316, -44.6410161513775],\n",
       "       [-5.98076211353316, -19.6410161513775, 2.67949192431123],\n",
       "       [-44.6410161513775, 2.67949192431123, 20.0000000000000]],\n",
       "      dtype=object)"
      ]
     },
     "metadata": {},
     "output_type": "display_data"
    }
   ],
   "source": [
    "#1 EXAMPLE STRESSES TRANFORMATION\n",
    "\n",
    "T_ij = np.array([[ 60, 40, -40],\n",
    "                 [ 40, 0,  -20],\n",
    "                 [-40, -20, 20]])\n",
    "\n",
    "\n",
    "l1 = sp.cos(sp.rad(30)).evalf()\n",
    "m1 = sp.cos(sp.rad(60)).evalf()\n",
    "n1 = sp.cos(sp.rad(90)).evalf()\n",
    "l2 = sp.cos(sp.rad(120)).evalf()\n",
    "m2 = sp.cos(sp.rad(30)).evalf()\n",
    "n2 = sp.cos(sp.rad(90)).evalf()\n",
    "l3 = sp.cos(sp.rad(90)).evalf()\n",
    "m3 = sp.cos(sp.rad(90)).evalf()\n",
    "n3 = sp.cos(sp.rad(0)).evalf()\n",
    "\n",
    "T = np.array([[l1,m1,n1],\n",
    "              [l2,m2,n2],\n",
    "              [l3,m3,n3]])\n",
    "\n",
    "T_ij_prime = S3DF.transform_stress_tensor(T_ij, T)\n",
    "display(T_ij_prime)"
   ]
  },
  {
   "cell_type": "code",
   "execution_count": 5,
   "id": "e76e6022",
   "metadata": {},
   "outputs": [
    {
     "name": "stdout",
     "output_type": "stream",
     "text": [
      "I1:\n"
     ]
    },
    {
     "data": {
      "text/plain": [
       "80"
      ]
     },
     "metadata": {},
     "output_type": "display_data"
    },
    {
     "name": "stdout",
     "output_type": "stream",
     "text": [
      "I2:\n"
     ]
    },
    {
     "data": {
      "text/plain": [
       "-2400"
      ]
     },
     "metadata": {},
     "output_type": "display_data"
    },
    {
     "name": "stdout",
     "output_type": "stream",
     "text": [
      "I3:\n"
     ]
    },
    {
     "data": {
      "text/plain": [
       "7999.999999999986"
      ]
     },
     "metadata": {},
     "output_type": "display_data"
    }
   ],
   "source": [
    "#2 EXAMPLE INVARIANTS COMPUTATION\n",
    "T_ij_1 = np.array([[ 60, 40, -40],\n",
    "                 [ 40, 0,  -20],\n",
    "                 [-40, -20, 20]])\n",
    "invariants_1 = S3DF.get_stress_invariant(T_ij_1)"
   ]
  },
  {
   "cell_type": "code",
   "execution_count": 6,
   "id": "52b6c3d3",
   "metadata": {},
   "outputs": [
    {
     "name": "stdout",
     "output_type": "stream",
     "text": [
      "26 -349 -6464\n"
     ]
    },
    {
     "data": {
      "text/plain": [
       "array([-16.9785768 ,  30.49342351,  12.48515329])"
      ]
     },
     "execution_count": 6,
     "metadata": {},
     "output_type": "execute_result"
    }
   ],
   "source": [
    "#3 EXAMPLE PRINCIPAL STRESSES COMPUTATION\n",
    "\n",
    "I = [26,-349,-6464]\n",
    "S3DF.get_principal_stresses(I)"
   ]
  },
  {
   "cell_type": "code",
   "execution_count": 7,
   "id": "a69757ca",
   "metadata": {},
   "outputs": [
    {
     "name": "stdout",
     "output_type": "stream",
     "text": [
      "El espacio nulo (soluciones) es:\n",
      "[[ 0.4472136 ]\n",
      " [ 0.        ]\n",
      " [-0.89442719]]\n"
     ]
    }
   ],
   "source": [
    "#4 EXAMPLE PRINCIPAL DIRECTIONS COMPUTATION\n",
    "T_ij = np.array([[30, 0, 20],\n",
    "                 [0, 0, 0],\n",
    "                 [20, 0, 0]])\n",
    "S1 = -10\n",
    "\n",
    "S3DF.get_principal_directions(T_ij,S1)"
   ]
  }
 ],
 "metadata": {
  "kernelspec": {
   "display_name": "Python 3",
   "language": "python",
   "name": "python3"
  },
  "language_info": {
   "codemirror_mode": {
    "name": "ipython",
    "version": 3
   },
   "file_extension": ".py",
   "mimetype": "text/x-python",
   "name": "python",
   "nbconvert_exporter": "python",
   "pygments_lexer": "ipython3",
   "version": "3.12.0"
  }
 },
 "nbformat": 4,
 "nbformat_minor": 5
}
